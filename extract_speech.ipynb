{
 "cells": [
  {
   "cell_type": "code",
   "execution_count": 26,
   "metadata": {},
   "outputs": [],
   "source": [
    "import speech_recognition as sr \n",
    "import moviepy.editor as mp\n",
    "from googletrans import Translator \n",
    "from playsound import playsound\n",
    "from gtts import gTTS"
   ]
  },
  {
   "cell_type": "code",
   "execution_count": 27,
   "metadata": {},
   "outputs": [
    {
     "name": "stdout",
     "output_type": "stream",
     "text": [
      "MoviePy - Writing audio in converted.wav\n"
     ]
    },
    {
     "name": "stderr",
     "output_type": "stream",
     "text": [
      "                                                                      "
     ]
    },
    {
     "name": "stdout",
     "output_type": "stream",
     "text": [
      "MoviePy - Done.\n"
     ]
    },
    {
     "name": "stderr",
     "output_type": "stream",
     "text": [
      "\r"
     ]
    }
   ],
   "source": [
    "clip = mp.VideoFileClip(r'xyz.mp4') \n",
    "clip.audio.write_audiofile(r'converted.wav')"
   ]
  },
  {
   "cell_type": "code",
   "execution_count": 28,
   "metadata": {},
   "outputs": [],
   "source": [
    "r = sr.Recognizer()\n",
    "audio = sr.AudioFile(\"converted.wav\")"
   ]
  },
  {
   "cell_type": "code",
   "execution_count": 29,
   "metadata": {},
   "outputs": [],
   "source": [
    "with audio as source:\n",
    "  audio_file = r.record(source)\n",
    "result = r.recognize_google(audio_file)"
   ]
  },
  {
   "cell_type": "code",
   "execution_count": 30,
   "metadata": {},
   "outputs": [
    {
     "data": {
      "text/plain": [
       "'hello I hope you all are well Singh safe and healthy in this video I will talk about geek of the month program in detail to primarily it is a program that is organised by geeksforgeeks student chapter in this program you guys the receive one question for five days every week related to coating and you will receive points accordingly this point will be accumulated and then on the basis of these points the one with the highest rank on the leader board will be declared as the week of the month and will receive the award in the end of the month all my friends can check out more info about KYC of the month program in the discord and telegram channels link in description below go check them out'"
      ]
     },
     "execution_count": 30,
     "metadata": {},
     "output_type": "execute_result"
    }
   ],
   "source": [
    "result"
   ]
  },
  {
   "cell_type": "code",
   "execution_count": 31,
   "metadata": {},
   "outputs": [],
   "source": [
    "dic = ('afrikaans', 'af', 'albanian', 'sq', \n",
    "       'amharic', 'am', 'arabic', 'ar',\n",
    "       'armenian', 'hy', 'azerbaijani', 'az', \n",
    "       'basque', 'eu', 'belarusian', 'be',\n",
    "       'bengali', 'bn', 'bosnian', 'bs', 'bulgarian',\n",
    "       'bg', 'catalan', 'ca', 'cebuano',\n",
    "       'ceb', 'chichewa', 'ny', 'chinese (simplified)',\n",
    "       'zh-cn', 'chinese (traditional)',\n",
    "       'zh-tw', 'corsican', 'co', 'croatian', 'hr',\n",
    "       'czech', 'cs', 'danish', 'da', 'dutch',\n",
    "       'nl', 'english', 'en', 'esperanto', 'eo', \n",
    "       'estonian', 'et', 'filipino', 'tl', 'finnish',\n",
    "       'fi', 'french', 'fr', 'frisian', 'fy', 'galician',\n",
    "       'gl', 'georgian', 'ka', 'german',\n",
    "       'de', 'greek', 'el', 'gujarati', 'gu',\n",
    "       'haitian creole', 'ht', 'hausa', 'ha',\n",
    "       'hawaiian', 'haw', 'hebrew', 'he', 'hindi',\n",
    "       'hi', 'hmong', 'hmn', 'hungarian',\n",
    "       'hu', 'icelandic', 'is', 'igbo', 'ig', 'indonesian', \n",
    "       'id', 'irish', 'ga', 'italian',\n",
    "       'it', 'japanese', 'ja', 'javanese', 'jw',\n",
    "       'kannada', 'kn', 'kazakh', 'kk', 'khmer',\n",
    "       'km', 'korean', 'ko', 'kurdish (kurmanji)', \n",
    "       'ku', 'kyrgyz', 'ky', 'lao', 'lo',\n",
    "       'latin', 'la', 'latvian', 'lv', 'lithuanian',\n",
    "       'lt', 'luxembourgish', 'lb',\n",
    "       'macedonian', 'mk', 'malagasy', 'mg', 'malay',\n",
    "       'ms', 'malayalam', 'ml', 'maltese',\n",
    "       'mt', 'maori', 'mi', 'marathi', 'mr', 'mongolian',\n",
    "       'mn', 'myanmar (burmese)', 'my',\n",
    "       'nepali', 'ne', 'norwegian', 'no', 'odia', 'or',\n",
    "       'pashto', 'ps', 'persian', 'fa',\n",
    "       'polish', 'pl', 'portuguese', 'pt', 'punjabi', \n",
    "       'pa', 'romanian', 'ro', 'russian',\n",
    "       'ru', 'samoan', 'sm', 'scots gaelic', 'gd',\n",
    "       'serbian', 'sr', 'sesotho', 'st',\n",
    "       'shona', 'sn', 'sindhi', 'sd', 'sinhala', 'si',\n",
    "       'slovak', 'sk', 'slovenian', 'sl',\n",
    "       'somali', 'so', 'spanish', 'es', 'sundanese',\n",
    "       'su', 'swahili', 'sw', 'swedish',\n",
    "       'sv', 'tajik', 'tg', 'tamil', 'ta', 'telugu',\n",
    "       'te', 'thai', 'th', 'turkish',\n",
    "       'tr', 'ukrainian', 'uk', 'urdu', 'ur', 'uyghur',\n",
    "       'ug', 'uzbek',  'uz',\n",
    "       'vietnamese', 'vi', 'welsh', 'cy', 'xhosa', 'xh',\n",
    "       'yiddish', 'yi', 'yoruba',\n",
    "       'yo', 'zulu', 'zu')"
   ]
  },
  {
   "cell_type": "code",
   "execution_count": 32,
   "metadata": {},
   "outputs": [],
   "source": [
    "lang = input().lower()\n",
    "lang = dic[dic.index(lang)+1]"
   ]
  },
  {
   "cell_type": "code",
   "execution_count": 33,
   "metadata": {},
   "outputs": [
    {
     "data": {
      "text/plain": [
       "'हैलो मुझे आशा है कि आप सभी सिंह सुरक्षित और स्वस्थ हैं इस वीडियो में मैं Geek geek of the महीने के कार्यक्रम के बारे में विस्तार से बात करूंगा, मुख्य रूप से यह एक ऐसा कार्यक्रम है जो GeeksForgeeks छात्र अध्याय द्वारा आयोजित किया जाता है। इस कार्यक्रम में आप लोग पाँच दिनों के लिए एक प्रश्न प्राप्त करते हैंकोटिंग से संबंधित हर हफ्ते और आपको इस बिंदु के अनुसार अंक प्राप्त होंगे और फिर इन बिंदुओं के आधार पर लीडर बोर्ड पर उच्चतम रैंक के साथ एक को महीने के सप्ताह के रूप में घोषित किया जाएगा और पुरस्कार में पुरस्कार प्राप्त करेगामहीने का अंत मेरे सभी दोस्त डिसोर्ड और टेलीग्राम चैनल लिंक में KYC ऑफ द मंथ प्रोग्राम के बारे में अधिक जानकारी देख सकते हैं'"
      ]
     },
     "execution_count": 33,
     "metadata": {},
     "output_type": "execute_result"
    }
   ],
   "source": [
    "translator = Translator()\n",
    "text = translator.translate(result, dest=lang).text\n",
    "text"
   ]
  },
  {
   "cell_type": "code",
   "execution_count": 34,
   "metadata": {},
   "outputs": [],
   "source": [
    "speak = gTTS(text=text, lang=lang, slow=False)\n",
    "speak.save(\"captured_voice.mp3\")\n",
    "# playsound('captured_voice.mp3')\n",
    "# os.remove('captured_voice.mp3')"
   ]
  },
  {
   "cell_type": "code",
   "execution_count": 43,
   "metadata": {},
   "outputs": [
    {
     "ename": "NameError",
     "evalue": "name 'song' is not defined",
     "output_type": "error",
     "traceback": [
      "\u001b[1;31m---------------------------------------------------------------------------\u001b[0m",
      "\u001b[1;31mNameError\u001b[0m                                 Traceback (most recent call last)",
      "Cell \u001b[1;32mIn [43], line 4\u001b[0m\n\u001b[0;32m      1\u001b[0m \u001b[39mfrom\u001b[39;00m \u001b[39mpydub\u001b[39;00m \u001b[39mimport\u001b[39;00m AudioSegment\n\u001b[0;32m      2\u001b[0m \u001b[39mfrom\u001b[39;00m \u001b[39mpydub\u001b[39;00m\u001b[39m.\u001b[39;00m\u001b[39meffects\u001b[39;00m \u001b[39mimport\u001b[39;00m speedup\n\u001b[1;32m----> 4\u001b[0m audio \u001b[39m=\u001b[39m AudioSegment\u001b[39m.\u001b[39mfrom_mp3(song\u001b[39m.\u001b[39mmp3)\n\u001b[0;32m      5\u001b[0m new_file \u001b[39m=\u001b[39m speedup(audio, \u001b[39m0.9\u001b[39m, \u001b[39m150\u001b[39m)\n\u001b[0;32m      6\u001b[0m new_file\u001b[39m.\u001b[39mexport(\u001b[39m\"\u001b[39m\u001b[39mfile.mp3\u001b[39m\u001b[39m\"\u001b[39m, \u001b[39mformat\u001b[39m\u001b[39m=\u001b[39m\u001b[39m\"\u001b[39m\u001b[39mmp3\u001b[39m\u001b[39m\"\u001b[39m)\n",
      "\u001b[1;31mNameError\u001b[0m: name 'song' is not defined"
     ]
    }
   ],
   "source": [
    "from pydub import AudioSegment\n",
    "from pydub.effects import speedup\n",
    "\n",
    "audio = AudioSegment.from_mp3(song.mp3)\n",
    "new_file = speedup(audio, 0.9, 150)\n",
    "new_file.export(\"file.mp3\", format=\"mp3\")"
   ]
  },
  {
   "cell_type": "code",
   "execution_count": null,
   "metadata": {},
   "outputs": [],
   "source": []
  }
 ],
 "metadata": {
  "kernelspec": {
   "display_name": "Python 3.8.6 64-bit",
   "language": "python",
   "name": "python3"
  },
  "language_info": {
   "codemirror_mode": {
    "name": "ipython",
    "version": 3
   },
   "file_extension": ".py",
   "mimetype": "text/x-python",
   "name": "python",
   "nbconvert_exporter": "python",
   "pygments_lexer": "ipython3",
   "version": "3.8.6"
  },
  "orig_nbformat": 4,
  "vscode": {
   "interpreter": {
    "hash": "494deeb4eea7fb63b62f74ba02ace728543e0003fbb675bfec79f4f4980c3f04"
   }
  }
 },
 "nbformat": 4,
 "nbformat_minor": 2
}
